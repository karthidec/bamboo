{
  "nbformat": 4,
  "nbformat_minor": 0,
  "metadata": {
    "colab": {
      "provenance": [],
      "gpuType": "V28",
      "authorship_tag": "ABX9TyMlgrZmSzEnnTXSzIwc8Oi0",
      "include_colab_link": true
    },
    "kernelspec": {
      "name": "python3",
      "display_name": "Python 3"
    },
    "language_info": {
      "name": "python"
    },
    "accelerator": "TPU"
  },
  "cells": [
    {
      "cell_type": "markdown",
      "metadata": {
        "id": "view-in-github",
        "colab_type": "text"
      },
      "source": [
        "<a href=\"https://colab.research.google.com/github/karthidec/bamboo/blob/master/open_models_gemma_text_generation.ipynb\" target=\"_parent\"><img src=\"https://colab.research.google.com/assets/colab-badge.svg\" alt=\"Open In Colab\"/></a>"
      ]
    },
    {
      "cell_type": "code",
      "execution_count": null,
      "metadata": {
        "id": "2AxvNFCb-GZw"
      },
      "outputs": [],
      "source": [
        "!pip install -U --upgrade keras tensorflow  # Ensure both keras and tensorflow are upgraded together\n",
        "!pip install -U  tensorflow-text\n",
        "!pip install -U  keras-nlp\n",
        "!pip install -U  keras-nightly\n",
        "\n",
        "import tensorflow as tf\n",
        "import keras\n",
        "import tensorflow_text\n",
        "import keras_nlp\n",
        "import numpy as np\n",
        "\n",
        "import os  # For configuring Kaggle credentials\n",
        "from google.colab import userdata  # (Optional) To retrieve Kaggle credentials from Colab secrets\n",
        "\n",
        "# Configure Kaggle credentials\n",
        "os.environ[\"KAGGLE_USERNAME\"] = userdata.get(\"KAGGLE_USER\")\n",
        "os.environ[\"KAGGLE_KEY\"] = userdata.get(\"KAGGLE_KEY\")\n",
        "\n",
        "gemma_lm = keras_nlp.models.GemmaCausalLM.from_preset(\"gemma_2b_en\")\n",
        "gemma_lm.generate(\"what is an aeroplane?\", max_length=30)"
      ]
    }
  ]
}